{
  "cells": [
    {
      "cell_type": "code",
      "execution_count": 2,
      "id": "06615d3f-243a-4082-b8b6-496ee6d86665",
      "metadata": {},
      "outputs": [],
      "source": [
        "%matplotlib widget\n",
        "\n",
        "import matplotlib.pyplot as plt\n",
        "import ipywidgets as widgets\n",
        "import plotly.express as px\n",
        "import numpy as np\n",
        "import os"
      ]
    },
    {
      "cell_type": "code",
      "execution_count": 3,
      "id": "506eeeae-b809-4f2c-8a84-d8b96aa16d2e",
      "metadata": {},
      "outputs": [
        {
          "name": "stdout",
          "output_type": "stream",
          "text": [
            "521024 521024\n",
            "228\n",
            "38 48 6 228\n"
          ]
        }
      ],
      "source": [
        "filename = \"./firmware/data/image.bin\"\n",
        "f = open(filename, \"rb\")\n",
        "file_length = os.path.getsize(filename)\n",
        "a = f.read()\n",
        "print(file_length, len(a))\n",
        "nh = int(48)\n",
        "nv = int(38)\n",
        "nbh = nh // 8\n",
        "lbytes = nbh * nv\n",
        "print(lbytes)\n",
        "print(nv, nh, nbh, lbytes)\n",
        "\n",
        "\n",
        "from math import ceil\n",
        "b = list(a)\n",
        "b = [list(f\"{i:08b}\")[::-1] for i in b]\n",
        "b = [[int(i) for i in j] for j in b]\n",
        "b = np.array(b)\n",
        "fill_array = np.ones((int(ceil(b.shape[0]/lbytes)*lbytes)-b.shape[0], b.shape[1]))\n",
        "fill_array.shape\n",
        "b = np.vstack((b, fill_array))"
      ]
    },
    {
      "cell_type": "code",
      "execution_count": 4,
      "id": "d760a00f-b9d5-4918-bfb5-0b2fc3c88922",
      "metadata": {},
      "outputs": [
        {
          "name": "stdout",
          "output_type": "stream",
          "text": [
            "38 48 6 228\n"
          ]
        },
        {
          "data": {
            "application/vnd.jupyter.widget-view+json": {
              "model_id": "3c62e76b03014f31b3672f61b9145249",
              "version_major": 2,
              "version_minor": 0
            },
            "text/plain": [
              "VBox(children=(HBox(children=(Button(description='next', style=ButtonStyle()), Button(description='prev', styl…"
            ]
          },
          "metadata": {},
          "output_type": "display_data"
        }
      ],
      "source": [
        "print(nv, nh, nbh, lbytes)\n",
        "from matplotlib.colors import LinearSegmentedColormap\n",
        "\n",
        "colours = [(1, 1, 1), (0, 0, 0)]\n",
        "n_bins = 2\n",
        "cmap_name = 'bw'\n",
        "\n",
        "bwcmap = LinearSegmentedColormap.from_list(cmap_name, colours, N=n_bins)\n",
        "\n",
        "with plt.ioff():\n",
        "    fig = plt.figure()\n",
        "im = plt.imshow(b[0:lbytes].reshape(nv,nh), cmap=bwcmap)\n",
        "current_idx = 0\n",
        "\n",
        "def on_button_clicked(butt):\n",
        "    global current_idx\n",
        "    print(butt.description)\n",
        "    match butt.description:\n",
        "        case 'next':\n",
        "            current_idx += nbh*nv\n",
        "        case 'prev':\n",
        "            current_idx -= nbh*nv\n",
        "        case 'shift_bytes_plus1':\n",
        "            current_idx += 1\n",
        "        case 'shift_bytes_minus1':\n",
        "            current_idx -= 1\n",
        "        case 'plus1':\n",
        "            current_idx += nbh\n",
        "        case 'minus1':\n",
        "            current_idx -= nbh\n",
        "        case 'plus10':\n",
        "            current_idx += nbh*10\n",
        "        case 'minus10':\n",
        "            current_idx -= nbh*10\n",
        "        case 'plus100':\n",
        "            current_idx += nbh*100\n",
        "        case 'minus100':\n",
        "            current_idx -= nbh*100\n",
        "        case 'plus1000':\n",
        "            current_idx += nbh*1000\n",
        "        case 'minus1000':\n",
        "            current_idx -= nbh*1000\n",
        "    if current_idx < 0:\n",
        "        print(\"idx below 0, showing 0:228 instead\")\n",
        "        current_idx = 0\n",
        "    if current_idx > (b.shape[0]-nbh):\n",
        "        print(f\"idx above {b.shape[0]-nbh}, showing {b.shape[0]-nbh}:{b.shape[0]}\")\n",
        "        current_idx = b.shape[0]-nbh\n",
        "        \n",
        "    im.set_data(b[current_idx:current_idx+lbytes].reshape(nv,nh))\n",
        "    fig.canvas.draw_idle()\n",
        "\n",
        "        \n",
        "    \n",
        "def update(change):\n",
        "    global current_idx\n",
        "    idx = change['new']\n",
        "    current_idx = idx\n",
        "    im.set_data(b[idx:idx+lbytes].reshape(nv,nh))\n",
        "    fig.canvas.draw_idle()\n",
        "    \n",
        "    \n",
        "button_next = widgets.Button(description='next', disabled=False, button_style='')\n",
        "button_prev = widgets.Button(description='prev', disabled=False, button_style='')\n",
        "button_sbp1 = widgets.Button(description='shift_bytes_plus1', disabled=False, button_style='') # bytes (col)\n",
        "button_sbm1 = widgets.Button(description='shift_bytes_minus1', disabled=False, button_style='') # bytes (col)\n",
        "button_plus1 = widgets.Button(description='plus1', disabled=False, button_style='')\n",
        "button_minus1 = widgets.Button(description='minus1', disabled=False, button_style='')\n",
        "button_minus10 = widgets.Button(description='minus10', disabled=False, button_style='')\n",
        "button_plus10 = widgets.Button(description='plus10', disabled=False, button_style='')\n",
        "button_plus100 = widgets.Button(description='plus100', disabled=False, button_style='')\n",
        "button_minus100 = widgets.Button(description='minus100', disabled=False, button_style='')\n",
        "button_plus1000 = widgets.Button(description='plus1000', disabled=False, button_style='')\n",
        "button_minus1000 = widgets.Button(description='minus1000', disabled=False, button_style='')\n",
        "button_next.on_click(on_button_clicked)\n",
        "button_prev.on_click(on_button_clicked)\n",
        "button_sbp1.on_click(on_button_clicked)\n",
        "button_sbm1.on_click(on_button_clicked)\n",
        "button_minus10.on_click(on_button_clicked)\n",
        "button_plus10.on_click(on_button_clicked)\n",
        "button_minus100.on_click(on_button_clicked)\n",
        "button_plus100.on_click(on_button_clicked)\n",
        "button_minus1000.on_click(on_button_clicked)\n",
        "button_plus1000.on_click(on_button_clicked)\n",
        "button_minus1.on_click(on_button_clicked)\n",
        "button_plus1.on_click(on_button_clicked)\n",
        "slider = widgets.IntSlider(current_idx, min=0, max=b.shape[0]-nbh, step=1)\n",
        "slider.observe(update, names='value')\n",
        "widgets.VBox([widgets.HBox([button_next, button_prev]), widgets.HBox([button_sbp1, button_sbm1]), widgets.HBox([button_plus1, button_minus1]), widgets.HBox([button_plus10, button_minus10]), widgets.HBox([button_plus100, button_minus100]), widgets.HBox([button_plus1000, button_minus1000]), slider, fig.canvas])\n"
      ]
    },
    {
      "cell_type": "code",
      "execution_count": null,
      "id": "49d89278-7518-41c1-8a9b-e34526e05f86",
      "metadata": {},
      "outputs": [],
      "source": []
    },
    {
      "cell_type": "code",
      "execution_count": null,
      "id": "734d466f-e3a9-47c3-8b44-8778c02e5d48",
      "metadata": {},
      "outputs": [],
      "source": []
    }
  ],
  "metadata": {
    "kernelspec": {
      "display_name": "Python 3 (ipykernel)",
      "language": "python",
      "name": "python3"
    },
    "language_info": {
      "codemirror_mode": {
        "name": "ipython",
        "version": 3
      },
      "file_extension": ".py",
      "mimetype": "text/x-python",
      "name": "python",
      "nbconvert_exporter": "python",
      "pygments_lexer": "ipython3",
      "version": "3.10.9"
    }
  },
  "nbformat": 4,
  "nbformat_minor": 5
}
